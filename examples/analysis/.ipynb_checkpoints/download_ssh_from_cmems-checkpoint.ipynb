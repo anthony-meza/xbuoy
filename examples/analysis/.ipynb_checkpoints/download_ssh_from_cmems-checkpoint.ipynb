{
 "cells": [
  {
   "cell_type": "code",
   "execution_count": 3,
   "id": "8d0d37e5-2be8-4efd-a864-b987fae5618d",
   "metadata": {},
   "outputs": [],
   "source": [
    "import requests\n",
    "import xarray as xr\n",
    "import matplotlib.pyplot as plt\n",
    "from datetime import datetime, timedelta\n",
    "import copernicusmarine\n",
    "from pprint import pprint\n",
    "import numpy as np"
   ]
  },
  {
   "cell_type": "code",
   "execution_count": 9,
   "id": "6a8fd878-c2e9-4d55-809d-8d4bad0b5f8d",
   "metadata": {},
   "outputs": [
    {
     "data": {
      "text/plain": [
       "'1.3.2'"
      ]
     },
     "execution_count": 9,
     "metadata": {},
     "output_type": "execute_result"
    }
   ],
   "source": [
    "copernicusmarine.__version__"
   ]
  },
  {
   "cell_type": "code",
   "execution_count": 10,
   "id": "0f957f0a-7b56-4a5a-9faa-4b2fd97c6450",
   "metadata": {},
   "outputs": [],
   "source": [
    "dataset_id = \"cmems_mod_glo_phy_my_0.083deg_P1M-m\""
   ]
  },
  {
   "cell_type": "code",
   "execution_count": 11,
   "id": "13181d52-6746-48b4-b912-c47d8f1cfddb",
   "metadata": {},
   "outputs": [],
   "source": [
    "catalogue = copernicusmarine.describe(contains=[dataset_id], include_datasets=True)\n",
    "datasets = catalogue['products'][0]['datasets']"
   ]
  },
  {
   "cell_type": "code",
   "execution_count": 12,
   "id": "5b03594b-2ede-4796-a19b-7d4f35a7ded7",
   "metadata": {
    "scrolled": true
   },
   "outputs": [
    {
     "name": "stdout",
     "output_type": "stream",
     "text": [
      "Dataset Name: Monthly mean fields for product GLOBAL_REANALYSIS_PHY_001_030\n",
      " \n",
      "Dataset ID:  cmems_mod_glo_phy_my_0.083deg_P1M-m\n",
      " \n",
      "{'service_name': 'original-files', 'short_name': 'files'}\n",
      "original-files\n",
      "['bottomT', 'mlotst', 'siconc', 'sithick', 'so', 'thetao', 'uo', 'usi', 'vo', 'vsi', 'zos']\n",
      " \n",
      "{'service_name': 'wmts', 'short_name': 'wmts'}\n",
      "wmts\n",
      "['bottomT', 'mlotst', 'siconc', 'sithick', 'so', 'thetao', 'uo', 'usi', 'vo', 'vsi', 'zos']\n",
      " \n",
      "{'service_name': 'arco-geo-series', 'short_name': 'geoseries'}\n",
      "arco-geo-series\n",
      "['bottomT', 'mlotst', 'siconc', 'sithick', 'so', 'thetao', 'uo', 'usi', 'vo', 'vsi', 'zos']\n",
      " \n",
      "{'service_name': 'arco-time-series', 'short_name': 'timeseries'}\n",
      "arco-time-series\n",
      "['bottomT', 'mlotst', 'siconc', 'sithick', 'so', 'thetao', 'uo', 'usi', 'vo', 'vsi', 'zos']\n",
      " \n"
     ]
    }
   ],
   "source": [
    "for d in datasets:\n",
    "    print(\"Dataset Name:\" , d['dataset_name']);     print(\" \")\n",
    "    print(\"Dataset ID: \", d['dataset_id']);     print(\" \")\n",
    "\n",
    "    for service in d['versions'][0]['parts'][0]['services']:\n",
    "        print(service['service_type'])\n",
    "        print(service['service_type']['service_name'])\n",
    "        variable_list = []\n",
    "        for variable in service['variables']:\n",
    "            variable_list.append(variable['short_name'])\n",
    "        print(variable_list)\n",
    "        print(\" \")"
   ]
  },
  {
   "cell_type": "code",
   "execution_count": 13,
   "id": "e552d068-6b65-46f9-a0f1-79d816f33524",
   "metadata": {},
   "outputs": [],
   "source": [
    "#downloading geostrophic velocities from CMEMS Data Store\n",
    "data_request = {\n",
    "   \"longitude\" : [-126, -106], \n",
    "   \"latitude\" : [20, 46],\n",
    "   \"time\" : [\"1992-01-01\", \"2016-12-30\"],\n",
    "   \"variables\" : [\"thetao\", \"so\"]\n",
    "}"
   ]
  },
  {
   "cell_type": "code",
   "execution_count": 16,
   "id": "fc11ed31-b453-4a30-b3ad-baed2d0c1ff6",
   "metadata": {},
   "outputs": [
    {
     "name": "stderr",
     "output_type": "stream",
     "text": [
      "INFO - 2024-08-19T23:35:38Z - Dataset version was not specified, the latest one was selected: \"202311\"\n",
      "INFO - 2024-08-19T23:35:38Z - Dataset part was not specified, the first one was selected: \"default\"\n",
      "INFO - 2024-08-19T23:35:38Z - You forced selection of service: arco-time-series\n",
      "WARNING - 2024-08-19T23:35:42Z - Some or all of your subset selection [1992-01-01 00:00:00, 2016-12-30 00:00:00] for the time dimension  exceed the dataset coordinates [1993-01-01 00:00:00, 2021-06-01 00:00:00]\n",
      "INFO - 2024-08-19T23:35:42Z - Downloading using service arco-time-series...\n",
      "INFO - 2024-08-19T23:35:45Z - Estimated size of the dataset file is 165.837 MB.\n",
      "INFO - 2024-08-19T23:35:45Z - Writing to local storage. Please wait...\n"
     ]
    },
    {
     "data": {
      "application/vnd.jupyter.widget-view+json": {
       "model_id": "550b83907b4d46eb83a6cb5ccec84fb9",
       "version_major": 2,
       "version_minor": 0
      },
      "text/plain": [
       "  0%|          | 0/882 [00:00<?, ?it/s]"
      ]
     },
     "metadata": {},
     "output_type": "display_data"
    },
    {
     "name": "stderr",
     "output_type": "stream",
     "text": [
      "INFO - 2024-08-19T23:35:54Z - Successfully downloaded to glorys_temp.zarr\n"
     ]
    },
    {
     "data": {
      "text/plain": [
       "PosixPath('glorys_temp.zarr')"
      ]
     },
     "execution_count": 16,
     "metadata": {},
     "output_type": "execute_result"
    }
   ],
   "source": [
    "copernicusmarine.subset(\n",
    "    dataset_id = dataset_id,\n",
    "    minimum_longitude = data_request[\"longitude\"][0],\n",
    "    maximum_longitude = data_request[\"longitude\"][1],\n",
    "    minimum_latitude = data_request[\"latitude\"][0],\n",
    "    maximum_latitude = data_request[\"latitude\"][1],\n",
    "    variables=data_request[\"variables\"], \n",
    "    start_datetime = data_request[\"time\"][0],\n",
    "    end_datetime = data_request[\"time\"][1],\n",
    "    username = \"ameza\",\n",
    "    password = \"Ameza1998\", \n",
    "    minimum_depth=0,\n",
    "    maximum_depth=1,\n",
    "    output_directory = \"\", #downloads directly to cwd\n",
    "    output_filename = \"glorys_temp.zarr\",\n",
    "    overwrite_output_data = True,\n",
    "    force_download = True, \n",
    "    file_format = \"zarr\",\n",
    "    service = \"arco-time-series\",\n",
    "\n",
    ")"
   ]
  }
 ],
 "metadata": {
  "kernelspec": {
   "display_name": "Python 3 (ipykernel)",
   "language": "python",
   "name": "python3"
  },
  "language_info": {
   "codemirror_mode": {
    "name": "ipython",
    "version": 3
   },
   "file_extension": ".py",
   "mimetype": "text/x-python",
   "name": "python",
   "nbconvert_exporter": "python",
   "pygments_lexer": "ipython3",
   "version": "3.10.14"
  }
 },
 "nbformat": 4,
 "nbformat_minor": 5
}
